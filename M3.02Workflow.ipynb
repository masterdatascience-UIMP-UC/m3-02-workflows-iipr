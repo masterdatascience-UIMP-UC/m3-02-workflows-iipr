{
 "cells": [
  {
   "cell_type": "markdown",
   "metadata": {},
   "source": [
    "# Workflow\n",
    "\n",
    "En esta práctica vamos a aplicar lo aprendido en esta asignatura para crear un flujo que automatice la descarga, análisis y publicación de los datos utilizando distintas herramientas como Zenodo, GitHub y librerías de Python para el análisis de datos.\n",
    "\n",
    "### Librerías necesarias para la práctica\n",
    "\n",
    "```python\n",
    "import xml.etree.ElementTree as ET\n",
    "import requests\n",
    "import json\n",
    "import zipfile\n",
    "```\n",
    "\n",
    "### Elementos necesarios\n",
    "* Al menos un fichero CSV\n",
    "* Un script de análisis de datos en CSV (Publicado en GitHub)"
   ]
  },
  {
   "cell_type": "code",
   "execution_count": 2,
   "metadata": {},
   "outputs": [],
   "source": [
    "import xml.etree.ElementTree as ET\n",
    "import requests\n",
    "import json\n",
    "import zipfile"
   ]
  },
  {
   "cell_type": "markdown",
   "metadata": {},
   "source": [
    "# Publicación de datos iniciales\n",
    "\n",
    "Utilizando Zenodo, de forma manual, publicar los datos que se vayan a utilizar.\n",
    "\n",
    "<div class=\"alert alert-warning\" role=\"alert\" style=\"margin: 10px\">\n",
    "<p>Utilizar Communities para localizar más facilmente los datos</p>\n",
    "</div>\n"
   ]
  },
  {
   "cell_type": "markdown",
   "metadata": {},
   "source": [
    "Tomamos datos de Eurostat sobre tasas de empleo empleo en Europa.  \n",
    "La tabla actualizada se puede encontrar navegando por el árbol de datos de la [web de Eurostat](https://ec.europa.eu/eurostat/data/database):\n",
    "```   \n",
    "   Data navigation tree\n",
    "     Database by themes\n",
    "       Population and social conditions\n",
    "         Labour market(labour)\n",
    "           Employment and unemployment(Labour force survey)(employ)\n",
    "             LFS series - detailed quarterly survey results(from 1998 onwards)(lfsq)\n",
    "               Employment rates - LFS series(lfsq_emprt)\n",
    "                 Employment rates by sex, age and educational attainment level (%) (lfsq_ergaed)\n",
    "```\n",
    "\n",
    "Los datos se presentan agrupados por cuatrimestre y país, y están agregados por sexo, edad y nivel de educación:\n",
    "- **Países:** BE, BG, CZ, DK, DE, EE, IE, EL, ES, FR, HR, IT, CY, LV, LT, LU, HU, MT, NL, AT, PL, PT, RO, SI, SK, FI, SE, UK, IS, NO, CH, ME, MK, RS, TR. Grupos de países: EU28, EU27, EU15, EA19, EA18, EA17.\n",
    "\n",
    "- **Sexo:** Female, male.\n",
    "- **Edad:** Todos los posibles intervalos de edad $[a, b]$ con $a\\in \\{15, 19, 24, 39, 59, 64\\}$ y $b\\in \\{19, 24, 39, 59, 64, 74\\}$.\n",
    "- **Nivel de educación:** \n",
    "  - TOTAL: All ISCED 2011 levels.\n",
    "  - ED0-2: Less than primary, primary and lower secondary education (levels 0-2).\n",
    "  - ED3_4: Upper secondary and post-secondary non-tertiary education (levels 3 and 4).\n",
    "  - ED5-8: Tertiary education (levels 5-8).\n",
    "  - NRP: No response.\n",
    "  \n",
    "Descargamos la tabla (que incluye desde el primer cuatrimestre de 1998 hasta el tercer cuatrimestre de 2018), y la subimos a la comunidad de Zenodo [iipr's Datasets for Data Science](https://zenodo.org/communities/iipr_dlc_unican/). El DOI asignado es https://doi.org/10.5281/zenodo.2541848"
   ]
  },
  {
   "cell_type": "markdown",
   "metadata": {},
   "source": [
    "# Publicación de script de análisis\n",
    "\n",
    "En GitHub + Zenodo"
   ]
  },
  {
   "cell_type": "markdown",
   "metadata": {},
   "source": [
    "Creamos un repositorio público en GitHub https://github.com/iipr-Master-Data-Science/dlc_zenodo_integration  \n",
    "En él, añadimos un script de Python que toma datos de una tabla del estilo de la que acabamos de describir y genera, para ciertos países, y un cierto rango de edad, dos histogramas horizontales enfrentados que compara los datos correspondientes para mujeres y hombres, agrupando los cuatrimestres en años.\n",
    "\n",
    "Integramos este repositorio con Zenodo para que cada nueva release se publique automáticamente en Zenodo con su correspondiente DOI. La última está en https://zenodo.org/record/2554373\n",
    "\n",
    "**Nota:** Ya que el respositorio que he usado no se encuentra en mi cuenta pública de GitHub si no en un organización creada por mi, tuve que dar permiso a Zenodo de manera manual para que pudiera acceder a la información de esta organización y así ver los repositorios contenidos en ella."
   ]
  },
  {
   "cell_type": "markdown",
   "metadata": {},
   "source": [
    "# Descarga de datos\n",
    "\n",
    "Desde Zenodo, utilizando los métodos conocidos (OAI-PMH, API)\n",
    "\n",
    "Pista: url+'?verb=ListRecords&set=nombre_set"
   ]
  },
  {
   "cell_type": "markdown",
   "metadata": {},
   "source": [
    "https://zenodo.org/record/2541848"
   ]
  },
  {
   "cell_type": "markdown",
   "metadata": {},
   "source": [
    "## Get metadata formats:"
   ]
  },
  {
   "cell_type": "code",
   "execution_count": 1,
   "metadata": {},
   "outputs": [],
   "source": [
    "def get_oai_metadata_formats(url):\n",
    "    \"\"\"Lists the available metadata formats.\n",
    "        Parameters\n",
    "        ----------\n",
    "        url : string\n",
    "            OAI-PMH endpoint url\n",
    "        Returns\n",
    "        -------\n",
    "        metadata_formats : \n",
    "            Name of the downloaded file(s).\n",
    "    \"\"\"\n",
    "    metadata_formats = []\n",
    "    oai_verb = '?verb=ListMetadataFormats'\n",
    "    oai = requests.get(url + oai_verb) #Peticion al servidor\n",
    "    xmlTree = ET.ElementTree(ET.fromstring(oai.text))\n",
    "    iterator = xmlTree.iter()\n",
    "    for elem in iterator:\n",
    "        if (elem.tag == '{http://www.openarchives.org/OAI/2.0/}metadataPrefix'):\n",
    "            metadata_formats.append(elem.text)\n",
    "    return metadata_formats"
   ]
  },
  {
   "cell_type": "code",
   "execution_count": 3,
   "metadata": {},
   "outputs": [
    {
     "data": {
      "text/plain": [
       "['marcxml',\n",
       " 'oai_dc',\n",
       " 'oai_datacite',\n",
       " 'marc21',\n",
       " 'datacite',\n",
       " 'datacite3',\n",
       " 'datacite4',\n",
       " 'oai_datacite3']"
      ]
     },
     "execution_count": 3,
     "metadata": {},
     "output_type": "execute_result"
    }
   ],
   "source": [
    "oai_url = 'https://zenodo.org/oai2d'\n",
    "get_oai_metadata_formats(oai_url)"
   ]
  },
  {
   "cell_type": "markdown",
   "metadata": {},
   "source": [
    "## Search dataset"
   ]
  },
  {
   "cell_type": "code",
   "execution_count": 28,
   "metadata": {},
   "outputs": [],
   "source": [
    "def search_dataset(url, oai_set, metadata_format):\n",
    "    \"\"\"Search the datasets identifiers in the defined set.\n",
    "        Parameters\n",
    "        ----------\n",
    "        url : string\n",
    "            OAI-PMH endpoint url\n",
    "        oai_set : string\n",
    "            OAI-PMH set where the datasets will be searched\n",
    "        metadata_format : string\n",
    "            Selected metadata format to search\n",
    "        Returns\n",
    "        -------\n",
    "        dataset_ids : array \n",
    "            Dataset IDs\n",
    "    \"\"\"\n",
    "    #Define bounds to search in specific set\n",
    "    bounds = \"&set=\" + oai_set\n",
    "    oai = requests.get(url + '?verb=ListRecords' + bounds + '&metadataPrefix=' + metadata_format)\n",
    "    namespaces = {'oai': 'http://www.openarchives.org/OAI/2.0/'}\n",
    "    xmlTree = ET.fromstring(oai.text)\n",
    "    item = xmlTree.findall('.//oai:identifier', namespaces)\n",
    "    return item"
   ]
  },
  {
   "cell_type": "code",
   "execution_count": 82,
   "metadata": {},
   "outputs": [
    {
     "data": {
      "text/plain": [
       "'oai:zenodo.org:2541848'"
      ]
     },
     "execution_count": 82,
     "metadata": {},
     "output_type": "execute_result"
    }
   ],
   "source": [
    "# Para encontrar el dataset, usamos la comunidad creada\n",
    "oai_set = 'user-iipr_dlc_unican'\n",
    "id_list = search_dataset(oai_url, oai_set,'oai_dc')\n",
    "id_list[0].text"
   ]
  },
  {
   "cell_type": "markdown",
   "metadata": {},
   "source": [
    "## Get record"
   ]
  },
  {
   "cell_type": "code",
   "execution_count": 64,
   "metadata": {},
   "outputs": [],
   "source": [
    "def get_records(ids, fnames):\n",
    "    \"\"\"Download list of resources.\n",
    "        Parameters\n",
    "        ----------\n",
    "        ids : array\n",
    "            List of dataset ids\n",
    "        fnames : array\n",
    "            List of output file names\n",
    "    \"\"\"\n",
    "    headers = {'accept': 'application/json'}\n",
    "    for i, id_curr in enumerate(ids):\n",
    "        id_curr = id_curr.text.split(':')[-1]\n",
    "        r = requests.get('https://zenodo.org/api/records/{}'.format(id_curr), headers)\n",
    "        record = json.loads(r.text)\n",
    "        data_url = record['files'][0]['links']['self']\n",
    "        with open(fnames[i], 'wb') as f:\n",
    "            f.write(requests.get(data_url).content)\n",
    "            print('Data saved in {}'.format(fnames[i]))\n",
    "    return"
   ]
  },
  {
   "cell_type": "code",
   "execution_count": 65,
   "metadata": {},
   "outputs": [
    {
     "name": "stdout",
     "output_type": "stream",
     "text": [
      "Data saved in lfsq_ergaed.tsv.gz\n"
     ]
    }
   ],
   "source": [
    "fnames = ['lfsq_ergaed.tsv.gz']\n",
    "get_records(id_list[0:1], fnames)"
   ]
  },
  {
   "cell_type": "markdown",
   "metadata": {},
   "source": [
    "También descomprimimos:"
   ]
  },
  {
   "cell_type": "code",
   "execution_count": 73,
   "metadata": {},
   "outputs": [],
   "source": [
    "!gunzip lfsq_ergaed.tsv.gz"
   ]
  },
  {
   "cell_type": "code",
   "execution_count": 74,
   "metadata": {},
   "outputs": [
    {
     "name": "stdout",
     "output_type": "stream",
     "text": [
      "total 15880\r\n",
      "drwxr-xr-x  12 iker  staff      408 31 ene 21:03 \u001b[34m.\u001b[m\u001b[m\r\n",
      "drwxr-xr-x  11 iker  staff      374 31 ene 19:39 \u001b[34m..\u001b[m\u001b[m\r\n",
      "-rw-r--r--@  1 iker  staff     6148 31 ene 21:03 .DS_Store\r\n",
      "drwxr-xr-x  14 iker  staff      476 31 ene 18:23 \u001b[34m.git\u001b[m\u001b[m\r\n",
      "-rw-r--r--   1 iker  staff     1976 17 ene 11:43 .gitignore\r\n",
      "drwxr-xr-x   4 iker  staff      136 31 ene 18:21 \u001b[34m.ipynb_checkpoints\u001b[m\u001b[m\r\n",
      "-rw-r--r--   1 iker  staff    58726 31 ene 21:02 M3.02Workflow.ipynb\r\n",
      "-rw-r--r--@  1 iker  staff    92962 31 ene 18:21 M3.02Workflow_resuelto.ipynb\r\n",
      "-rw-r--r--   1 iker  staff       18 17 ene 11:43 README.md\r\n",
      "-rw-r--r--   1 iker  staff    50932 31 ene 21:02 dlc_zenodo_integration-v1.0.zip\r\n",
      "drwxr-xr-x   7 iker  staff      238 31 ene 19:50 \u001b[34miipr-Master-Data-Science-dlc_zenodo_integration-1740440\u001b[m\u001b[m\r\n",
      "-rw-r--r--   1 iker  staff  7901493 31 ene 20:50 lfsq_ergaed.tsv\r\n"
     ]
    }
   ],
   "source": [
    "!ls -la"
   ]
  },
  {
   "cell_type": "markdown",
   "metadata": {},
   "source": [
    "# Descarga de código\n",
    "\n",
    "Desde Zenodo, utilizando los métodos conocidos (OAI-PMH, API)\n",
    "\n",
    "<div class=\"alert alert-warning\" role=\"alert\" style=\"margin: 10px\">\n",
    "<p>Zenodo guarda un zip con el código</p>\n",
    "</div>"
   ]
  },
  {
   "cell_type": "markdown",
   "metadata": {},
   "source": [
    "- Repositorio: https://github.com/iipr-Master-Data-Science/dlc_zenodo_integration/\n",
    "- Release en Zenodo: http://doi.org/10.5281/zenodo.2554373"
   ]
  },
  {
   "cell_type": "markdown",
   "metadata": {},
   "source": [
    "Get Record:"
   ]
  },
  {
   "cell_type": "code",
   "execution_count": 68,
   "metadata": {},
   "outputs": [
    {
     "name": "stdout",
     "output_type": "stream",
     "text": [
      "{http://www.openarchives.org/OAI/2.0/}OAI-PMH: \n",
      "  \n",
      "{http://www.openarchives.org/OAI/2.0/}responseDate: 2019-01-31T19:57:53Z\n",
      "{http://www.openarchives.org/OAI/2.0/}request: https://zenodo.org/oai2d\n",
      "{http://www.openarchives.org/OAI/2.0/}GetRecord: \n",
      "    \n",
      "{http://www.openarchives.org/OAI/2.0/}record: \n",
      "      \n",
      "{http://www.openarchives.org/OAI/2.0/}header: \n",
      "        \n",
      "{http://www.openarchives.org/OAI/2.0/}identifier: oai:zenodo.org:2554373\n",
      "{http://www.openarchives.org/OAI/2.0/}datestamp: 2019-01-31T18:52:41Z\n",
      "{http://www.openarchives.org/OAI/2.0/}metadata: \n",
      "        \n",
      "{http://www.openarchives.org/OAI/2.0/oai_dc/}dc: \n",
      "          \n",
      "{http://purl.org/dc/elements/1.1/}creator: Ignacio Iker Prado Rujas\n",
      "{http://purl.org/dc/elements/1.1/}date: 2019-01-31\n",
      "{http://purl.org/dc/elements/1.1/}description: In this new release we have improved the code, allowing to call the script with several arguments:\n",
      "\n",
      "arg1: TSV file where to get data from.\n",
      "arg2: Code of the first country to use.\n",
      "arg3: Code of the second country to use.\n",
      "arg4: Code of the third country to use.\n",
      "arg5: Code of the age range to use.\n",
      "arg6: Code of the educational level to use.\n",
      "\n",
      "{http://purl.org/dc/elements/1.1/}identifier: https://zenodo.org/record/2554373\n",
      "{http://purl.org/dc/elements/1.1/}identifier: 10.5281/zenodo.2554373\n",
      "{http://purl.org/dc/elements/1.1/}identifier: oai:zenodo.org:2554373\n",
      "{http://purl.org/dc/elements/1.1/}relation: url:https://github.com/iipr-Master-Data-Science/dlc_zenodo_integration/tree/1.0\n",
      "{http://purl.org/dc/elements/1.1/}relation: doi:10.5281/zenodo.2542011\n",
      "{http://purl.org/dc/elements/1.1/}rights: info:eu-repo/semantics/openAccess\n",
      "{http://purl.org/dc/elements/1.1/}title: iipr-Master-Data-Science/dlc_zenodo_integration: Alpha-Release.post\n",
      "{http://purl.org/dc/elements/1.1/}type: info:eu-repo/semantics/other\n",
      "{http://purl.org/dc/elements/1.1/}type: software\n"
     ]
    }
   ],
   "source": [
    "verb = '?verb=GetRecord'\n",
    "comm = '&metadataPrefix=oai_dc&identifier=oai:zenodo.org:2554373'\n",
    "oai = requests.get(oai_url + verb + comm)\n",
    "xmlTree = ET.fromstring(oai.text)\n",
    "iterator = xmlTree.iter()\n",
    "for elem in iterator:\n",
    "    print(elem.tag + ': ' + elem.text)"
   ]
  },
  {
   "cell_type": "code",
   "execution_count": 85,
   "metadata": {},
   "outputs": [
    {
     "data": {
      "text/plain": [
       "'oai:zenodo.org:2554373'"
      ]
     },
     "execution_count": 85,
     "metadata": {},
     "output_type": "execute_result"
    }
   ],
   "source": [
    "# Para encontrar el dataset, usamos la comunidad creada\n",
    "oai_set = 'user-iipr_dlc_unican'\n",
    "id_list = search_dataset(oai_url, oai_set,'oai_dc')\n",
    "id_list[1].text"
   ]
  },
  {
   "cell_type": "code",
   "execution_count": 71,
   "metadata": {},
   "outputs": [
    {
     "name": "stdout",
     "output_type": "stream",
     "text": [
      "Data saved in dlc_zenodo_integration-v1.0.zip\n"
     ]
    }
   ],
   "source": [
    "fnames = ['dlc_zenodo_integration-v1.0.zip']\n",
    "get_records(id_list[1:2], fnames)"
   ]
  },
  {
   "cell_type": "markdown",
   "metadata": {},
   "source": [
    "Decomprimimos:"
   ]
  },
  {
   "cell_type": "code",
   "execution_count": 72,
   "metadata": {},
   "outputs": [
    {
     "name": "stdout",
     "output_type": "stream",
     "text": [
      "Archive:  dlc_zenodo_integration-v1.0.zip\r\n",
      "1740440de8258acf72774d23bb2585ce9df6b581\r\n",
      "   creating: iipr-Master-Data-Science-dlc_zenodo_integration-1740440/\r\n",
      "  inflating: iipr-Master-Data-Science-dlc_zenodo_integration-1740440/.gitignore  \r\n",
      "  inflating: iipr-Master-Data-Science-dlc_zenodo_integration-1740440/LICENSE  \r\n",
      "  inflating: iipr-Master-Data-Science-dlc_zenodo_integration-1740440/README.md  \r\n",
      "  inflating: iipr-Master-Data-Science-dlc_zenodo_integration-1740440/make_plots.py  \r\n",
      "   creating: iipr-Master-Data-Science-dlc_zenodo_integration-1740440/sample_graphs/\r\n",
      "  inflating: iipr-Master-Data-Science-dlc_zenodo_integration-1740440/sample_graphs/DE_ES_EU28_Y15-24_TOTAL.svg  \r\n",
      "  inflating: iipr-Master-Data-Science-dlc_zenodo_integration-1740440/sample_graphs/PL_LT_HU_Y25-64_ED3_4.svg  \r\n",
      "  inflating: iipr-Master-Data-Science-dlc_zenodo_integration-1740440/sample_graphs/UK_NL_IT_Y25-64_ED5-8.svg  \r\n"
     ]
    }
   ],
   "source": [
    "!unzip dlc_zenodo_integration-v1.0.zip"
   ]
  },
  {
   "cell_type": "markdown",
   "metadata": {},
   "source": [
    "# Análisis de los datos\n",
    "\n",
    "Producir fichero: Otro CSV, imagen, etc"
   ]
  },
  {
   "cell_type": "code",
   "execution_count": 79,
   "metadata": {},
   "outputs": [
    {
     "name": "stdout",
     "output_type": "stream",
     "text": [
      "3.7.0 (default, Oct  2 2018, 09:19:48) \n",
      "[Clang 9.0.0 (clang-900.0.39.2)]\n",
      "Sexs: ['F' 'M' 'T']\n",
      "Geos: ['AT' 'BE' 'BG' 'CH' 'CY' 'CZ' 'DE' 'DK' 'EA17' 'EA18' 'EA19' 'EE' 'EL'\n",
      " 'ES' 'EU15' 'EU27' 'EU28' 'FI' 'FR' 'HR' 'HU' 'IE' 'IS' 'IT' 'LT' 'LU'\n",
      " 'LV' 'ME' 'MK' 'MT' 'NL' 'NO' 'PL' 'PT' 'RO' 'RS' 'SE' 'SI' 'SK' 'TR'\n",
      " 'UK']\n",
      "Age ranges: ['Y15-19' 'Y15-24' 'Y15-39' 'Y15-59' 'Y15-64' 'Y15-74' 'Y20-24' 'Y20-64'\n",
      " 'Y25-29' 'Y25-49' 'Y25-54' 'Y25-59' 'Y25-64' 'Y25-74' 'Y30-34' 'Y35-39'\n",
      " 'Y40-44' 'Y40-59' 'Y40-64' 'Y45-49' 'Y50-54' 'Y50-59' 'Y50-64' 'Y50-74'\n",
      " 'Y55-59' 'Y55-64' 'Y60-64' 'Y65-69' 'Y65-74' 'Y70-74']\n",
      "Educational levels: ['ED0-2' 'ED3_4' 'ED5-8' 'NRP' 'TOTAL']\n"
     ]
    },
    {
     "data": {
      "image/png": "[encoded data removed]",
      "text/plain": [
       "<Figure size 720x720 with 2 Axes>"
      ]
     },
     "metadata": {
      "needs_background": "light"
     },
     "output_type": "display_data"
    }
   ],
   "source": [
    "%run -i iipr-Master-Data-Science-dlc_zenodo_integration-1740440/make_plots.py lfsq_ergaed.tsv DE ES EU28 Y15-24 TOTAL"
   ]
  },
  {
   "cell_type": "markdown",
   "metadata": {},
   "source": [
    "# Publicación de los Datos\n",
    "\n",
    "Utilizando la API de Zenodo"
   ]
  },
  {
   "cell_type": "code",
   "execution_count": null,
   "metadata": {},
   "outputs": [],
   "source": []
  },
  {
   "cell_type": "markdown",
   "metadata": {},
   "source": [
    "¿Puedes replicar ese workflow en un sólo bloque con otros datos?"
   ]
  },
  {
   "cell_type": "code",
   "execution_count": null,
   "metadata": {},
   "outputs": [],
   "source": []
  }
 ],
 "metadata": {
  "kernelspec": {
   "display_name": "Python 3",
   "language": "python",
   "name": "python3"
  },
  "language_info": {
   "codemirror_mode": {
    "name": "ipython",
    "version": 3
   },
   "file_extension": ".py",
   "mimetype": "text/x-python",
   "name": "python",
   "nbconvert_exporter": "python",
   "pygments_lexer": "ipython3",
   "version": "3.7.0"
  },
  "latex_envs": {
   "LaTeX_envs_menu_present": true,
   "autoclose": false,
   "autocomplete": true,
   "bibliofile": "biblio.bib",
   "cite_by": "apalike",
   "current_citInitial": 1,
   "eqLabelWithNumbers": true,
   "eqNumInitial": 1,
   "hotkeys": {
    "equation": "Ctrl-E",
    "itemize": "Ctrl-I"
   },
   "labels_anchors": false,
   "latex_user_defs": false,
   "report_style_numbering": false,
   "user_envs_cfg": false
  },
  "toc": {
   "base_numbering": 1,
   "nav_menu": {},
   "number_sections": true,
   "sideBar": true,
   "skip_h1_title": false,
   "title_cell": "Table of Contents",
   "title_sidebar": "Contents",
   "toc_cell": false,
   "toc_position": {},
   "toc_section_display": true,
   "toc_window_display": true
  }
 },
 "nbformat": 4,
 "nbformat_minor": 2
}
