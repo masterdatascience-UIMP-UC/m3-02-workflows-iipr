{
 "cells": [
  {
   "cell_type": "markdown",
   "metadata": {},
   "source": [
    "# Workflow\n",
    "\n",
    "En esta práctica vamos a aplicar lo aprendido en esta asignatura para crear un flujo que automatice la descarga, análisis y publicación de los datos utilizando distintas herramientas como Zenodo, github y librerías de python para el análisis de datos\n",
    "\n",
    "### Librerías necesarias para la práctica\n",
    "\n",
    "```python\n",
    "import xml.etree.ElementTree as ET\n",
    "import requests\n",
    "import json\n",
    "import zipfile\n",
    "```\n",
    "\n",
    "### Elementos necesarios\n",
    "* Al menos un fichero CSV\n",
    "* Un script de análisis de datos en CSV (Publicado en Github)\n"
   ]
  },
  {
   "cell_type": "code",
   "execution_count": 7,
   "metadata": {},
   "outputs": [],
   "source": [
    "import xml.etree.ElementTree as ET\n",
    "import requests\n",
    "import json\n",
    "import zipfile"
   ]
  },
  {
   "cell_type": "markdown",
   "metadata": {},
   "source": [
    "# Publicación de datos iniciales\n",
    "\n",
    "Utilizando Zenodo, de forma manual, publicar los datos que se vayan a utilizar.\n",
    "\n",
    "<div class=\"alert alert-warning\" role=\"alert\" style=\"margin: 10px\">\n",
    "<p>Utilizar Communities para localizar más facilmente los datos</p>\n",
    "</div>\n"
   ]
  },
  {
   "cell_type": "code",
   "execution_count": null,
   "metadata": {},
   "outputs": [],
   "source": []
  },
  {
   "cell_type": "markdown",
   "metadata": {},
   "source": [
    "# Publicación de script de Análisis\n",
    "\n",
    "En Github + Zenodo"
   ]
  },
  {
   "cell_type": "code",
   "execution_count": null,
   "metadata": {},
   "outputs": [],
   "source": []
  },
  {
   "cell_type": "markdown",
   "metadata": {},
   "source": [
    "# Descarga de datos\n",
    "\n",
    "Desde Zenodo, utilizando los métodos conocidos (OAI-PMH, API)\n",
    "\n",
    "Pista: url+'?verb=ListRecords&set=nombre_set"
   ]
  },
  {
   "cell_type": "markdown",
   "metadata": {},
   "source": [
    "https://zenodo.org/record/2541848"
   ]
  },
  {
   "cell_type": "markdown",
   "metadata": {},
   "source": [
    "List Records:"
   ]
  },
  {
   "cell_type": "code",
   "execution_count": 58,
   "metadata": {},
   "outputs": [],
   "source": [
    "zen_url = 'https://zenodo.org/oai2d'\n",
    "verb = '?verb=ListRecords'\n",
    "comm = '&set=user-iipr_dlc_unican&metadataPrefix=oai_dc'"
   ]
  },
  {
   "cell_type": "code",
   "execution_count": 59,
   "metadata": {},
   "outputs": [
    {
     "name": "stdout",
     "output_type": "stream",
     "text": [
      "{http://www.openarchives.org/OAI/2.0/}OAI-PMH -> \n",
      "  \n",
      "{http://www.openarchives.org/OAI/2.0/}responseDate -> 2019-01-16T18:42:09Z\n",
      "{http://www.openarchives.org/OAI/2.0/}request -> https://zenodo.org/oai2d\n",
      "{http://www.openarchives.org/OAI/2.0/}ListRecords -> \n",
      "    \n",
      "{http://www.openarchives.org/OAI/2.0/}record -> \n",
      "      \n",
      "{http://www.openarchives.org/OAI/2.0/}header -> \n",
      "        \n",
      "{http://www.openarchives.org/OAI/2.0/}identifier -> oai:zenodo.org:2542012\n",
      "{http://www.openarchives.org/OAI/2.0/}datestamp -> 2019-01-16T18:41:31Z\n",
      "{http://www.openarchives.org/OAI/2.0/}setSpec -> user-iipr_dlc_unican\n",
      "{http://www.openarchives.org/OAI/2.0/}metadata -> \n",
      "        \n",
      "{http://www.openarchives.org/OAI/2.0/oai_dc/}dc -> \n",
      "          \n",
      "{http://purl.org/dc/elements/1.1/}creator -> Ignacio Iker Prado Rujas\n",
      "{http://purl.org/dc/elements/1.1/}date -> 2019-01-16\n",
      "{http://purl.org/dc/elements/1.1/}description -> This is a first test release to check zenodo's integration with GitHub.\n",
      "{http://purl.org/dc/elements/1.1/}identifier -> https://zenodo.org/record/2542012\n",
      "{http://purl.org/dc/elements/1.1/}identifier -> 10.5281/zenodo.2542012\n",
      "{http://purl.org/dc/elements/1.1/}identifier -> oai:zenodo.org:2542012\n",
      "{http://purl.org/dc/elements/1.1/}relation -> url:https://github.com/iipr-Master-Data-Science/zenodo_integration/tree/v0.1\n",
      "{http://purl.org/dc/elements/1.1/}relation -> doi:10.5281/zenodo.2542011\n",
      "{http://purl.org/dc/elements/1.1/}relation -> url:https://zenodo.org/communities/iipr_dlc_unican\n",
      "{http://purl.org/dc/elements/1.1/}rights -> info:eu-repo/semantics/openAccess\n",
      "{http://purl.org/dc/elements/1.1/}title -> iipr-Master-Data-Science/zenodo_integration: Test release\n",
      "{http://purl.org/dc/elements/1.1/}type -> info:eu-repo/semantics/other\n",
      "{http://purl.org/dc/elements/1.1/}type -> software\n",
      "{http://www.openarchives.org/OAI/2.0/}record -> \n",
      "      \n",
      "{http://www.openarchives.org/OAI/2.0/}header -> \n",
      "        \n",
      "{http://www.openarchives.org/OAI/2.0/}identifier -> oai:zenodo.org:2541848\n",
      "{http://www.openarchives.org/OAI/2.0/}datestamp -> 2019-01-16T16:13:01Z\n",
      "{http://www.openarchives.org/OAI/2.0/}setSpec -> user-iipr_dlc_unican\n",
      "{http://www.openarchives.org/OAI/2.0/}metadata -> \n",
      "        \n",
      "{http://www.openarchives.org/OAI/2.0/oai_dc/}dc -> \n",
      "          \n",
      "{http://purl.org/dc/elements/1.1/}creator -> Prado Rujas, Ignacio Iker\n",
      "{http://purl.org/dc/elements/1.1/}date -> 2019-01-16\n",
      "{http://purl.org/dc/elements/1.1/}description -> Link to basic metadata.\n",
      "\n",
      "Link to extended description.\n",
      "{http://purl.org/dc/elements/1.1/}identifier -> https://zenodo.org/record/2541848\n",
      "{http://purl.org/dc/elements/1.1/}identifier -> 10.5281/zenodo.2541848\n",
      "{http://purl.org/dc/elements/1.1/}identifier -> oai:zenodo.org:2541848\n",
      "{http://purl.org/dc/elements/1.1/}language -> eng\n",
      "{http://purl.org/dc/elements/1.1/}relation -> doi:10.5281/zenodo.2541847\n",
      "{http://purl.org/dc/elements/1.1/}relation -> url:https://zenodo.org/communities/iipr_dlc_unican\n",
      "{http://purl.org/dc/elements/1.1/}rights -> info:eu-repo/semantics/openAccess\n",
      "{http://purl.org/dc/elements/1.1/}rights -> http://creativecommons.org/licenses/by-nc-sa/4.0/legalcode\n",
      "{http://purl.org/dc/elements/1.1/}title -> Employment rates by sex, age and educational attainment level (%)\n",
      "{http://purl.org/dc/elements/1.1/}type -> info:eu-repo/semantics/other\n",
      "{http://purl.org/dc/elements/1.1/}type -> dataset\n"
     ]
    }
   ],
   "source": [
    "oai = requests.get(zen_url + verb + comm)\n",
    "namespaces = {'oai': 'http://www.openarchives.org/OAI/2.0/'}\n",
    "\n",
    "# Para crear el arbol XML\n",
    "xmlTree = ET.fromstring(oai.text)\n",
    "\n",
    "iterator = xmlTree.iter()\n",
    "for e in iterator:\n",
    "    print(e.tag, '->', e.text)"
   ]
  },
  {
   "cell_type": "markdown",
   "metadata": {},
   "source": [
    "Get Record:"
   ]
  },
  {
   "cell_type": "code",
   "execution_count": 60,
   "metadata": {},
   "outputs": [],
   "source": [
    "verb = '?verb=GetRecord'\n",
    "comm = '&metadataPrefix=oai_dc&identifier=oai:zenodo.org:2541848'"
   ]
  },
  {
   "cell_type": "code",
   "execution_count": 61,
   "metadata": {},
   "outputs": [
    {
     "name": "stdout",
     "output_type": "stream",
     "text": [
      "{http://www.openarchives.org/OAI/2.0/}OAI-PMH: \n",
      "  \n",
      "{http://www.openarchives.org/OAI/2.0/}responseDate: 2019-01-16T18:42:13Z\n",
      "{http://www.openarchives.org/OAI/2.0/}request: https://zenodo.org/oai2d\n",
      "{http://www.openarchives.org/OAI/2.0/}GetRecord: \n",
      "    \n",
      "{http://www.openarchives.org/OAI/2.0/}record: \n",
      "      \n",
      "{http://www.openarchives.org/OAI/2.0/}header: \n",
      "        \n",
      "{http://www.openarchives.org/OAI/2.0/}identifier: oai:zenodo.org:2541848\n",
      "{http://www.openarchives.org/OAI/2.0/}datestamp: 2019-01-16T16:13:01Z\n",
      "{http://www.openarchives.org/OAI/2.0/}setSpec: user-iipr_dlc_unican\n",
      "{http://www.openarchives.org/OAI/2.0/}metadata: \n",
      "        \n",
      "{http://www.openarchives.org/OAI/2.0/oai_dc/}dc: \n",
      "          \n",
      "{http://purl.org/dc/elements/1.1/}creator: Prado Rujas, Ignacio Iker\n",
      "{http://purl.org/dc/elements/1.1/}date: 2019-01-16\n",
      "{http://purl.org/dc/elements/1.1/}description: Link to basic metadata.\n",
      "\n",
      "Link to extended description.\n",
      "{http://purl.org/dc/elements/1.1/}identifier: https://zenodo.org/record/2541848\n",
      "{http://purl.org/dc/elements/1.1/}identifier: 10.5281/zenodo.2541848\n",
      "{http://purl.org/dc/elements/1.1/}identifier: oai:zenodo.org:2541848\n",
      "{http://purl.org/dc/elements/1.1/}language: eng\n",
      "{http://purl.org/dc/elements/1.1/}relation: doi:10.5281/zenodo.2541847\n",
      "{http://purl.org/dc/elements/1.1/}relation: url:https://zenodo.org/communities/iipr_dlc_unican\n",
      "{http://purl.org/dc/elements/1.1/}rights: info:eu-repo/semantics/openAccess\n",
      "{http://purl.org/dc/elements/1.1/}rights: http://creativecommons.org/licenses/by-nc-sa/4.0/legalcode\n",
      "{http://purl.org/dc/elements/1.1/}title: Employment rates by sex, age and educational attainment level (%)\n",
      "{http://purl.org/dc/elements/1.1/}type: info:eu-repo/semantics/other\n",
      "{http://purl.org/dc/elements/1.1/}type: dataset\n"
     ]
    }
   ],
   "source": [
    "oai = requests.get(zen_url + verb + comm)\n",
    "xmlTree = ET.fromstring(oai.text)\n",
    "iterator = xmlTree.iter()\n",
    "for elem in iterator:\n",
    "    print(elem.tag + ': ' + elem.text)"
   ]
  },
  {
   "cell_type": "code",
   "execution_count": 43,
   "metadata": {},
   "outputs": [
    {
     "name": "stdout",
     "output_type": "stream",
     "text": [
      "[{'bucket': '6eb594d2-693a-43d8-8670-7e33e00b2b85', 'checksum': 'md5:ef8240eb8d0b13caf07c8cf0d99a30cc', 'key': 'lfsq_ergaed.tsv.gz', 'links': {'self': 'https://zenodo.org/api/files/6eb594d2-693a-43d8-8670-7e33e00b2b85/lfsq_ergaed.tsv.gz'}, 'size': 1956221, 'type': 'gz'}]\n"
     ]
    }
   ],
   "source": [
    "headers = {'accept': 'application/json'}\n",
    "r = requests.get('https://zenodo.org/api/records/2541848',headers)\n",
    "record = json.loads(r.text)\n",
    "print(record['files'])"
   ]
  },
  {
   "cell_type": "code",
   "execution_count": 47,
   "metadata": {},
   "outputs": [],
   "source": [
    "data_url = record['files'][0]['links']['self']\n",
    "with open('lfsq_ergaed.tsv.gz', 'wb') as f:\n",
    "    f.write(requests.get(data_url).content)"
   ]
  },
  {
   "cell_type": "markdown",
   "metadata": {},
   "source": [
    "También descomprimimos:"
   ]
  },
  {
   "cell_type": "code",
   "execution_count": 49,
   "metadata": {},
   "outputs": [],
   "source": [
    "!gunzip lfsq_ergaed.tsv.gz"
   ]
  },
  {
   "cell_type": "code",
   "execution_count": 50,
   "metadata": {},
   "outputs": [
    {
     "name": "stdout",
     "output_type": "stream",
     "text": [
      "total 7752\r\n",
      "drwxrwxr-x 4 iker iker    4096 ene 16 19:37 .\r\n",
      "drwxrwxr-x 7 iker iker    4096 ene 16 17:19 ..\r\n",
      "drwxrwxr-x 8 iker iker    4096 ene 16 17:03 .git\r\n",
      "drwxrwxr-x 2 iker iker    4096 ene 16 17:07 .ipynb_checkpoints\r\n",
      "-rw-rw-r-- 1 iker iker 7901493 ene 16 19:36 lfsq_ergaed.tsv\r\n",
      "-rw-rw-r-- 1 iker iker   11774 ene 16 19:36 M3.02Workflow.ipynb\r\n",
      "-rw-rw-r-- 1 iker iker      18 ene 16 17:03 README.md\r\n"
     ]
    }
   ],
   "source": [
    "!ls -la"
   ]
  },
  {
   "cell_type": "markdown",
   "metadata": {},
   "source": [
    "# Descarga de código\n",
    "\n",
    "Desde Zenodo, utilizando los métodos conocidos (OAI-PMH, API)\n",
    "\n",
    "<div class=\"alert alert-warning\" role=\"alert\" style=\"margin: 10px\">\n",
    "<p>Zenodo guarda un zip con el código</p>\n",
    "</div>"
   ]
  },
  {
   "cell_type": "markdown",
   "metadata": {},
   "source": [
    "https://github.com/iipr-Master-Data-Science/zenodo_integration/\n",
    "\n",
    "http://doi.org/10.5281/zenodo.2542012"
   ]
  },
  {
   "cell_type": "markdown",
   "metadata": {},
   "source": [
    "List Records:"
   ]
  },
  {
   "cell_type": "code",
   "execution_count": 62,
   "metadata": {},
   "outputs": [],
   "source": [
    "zen_url = 'https://zenodo.org/oai2d'\n",
    "verb = '?verb=ListRecords'\n",
    "comm = '&set=user-iipr_dlc_unican&metadataPrefix=oai_dc'"
   ]
  },
  {
   "cell_type": "code",
   "execution_count": 63,
   "metadata": {},
   "outputs": [
    {
     "name": "stdout",
     "output_type": "stream",
     "text": [
      "{http://www.openarchives.org/OAI/2.0/}OAI-PMH -> \n",
      "  \n",
      "{http://www.openarchives.org/OAI/2.0/}responseDate -> 2019-01-16T18:43:01Z\n",
      "{http://www.openarchives.org/OAI/2.0/}request -> https://zenodo.org/oai2d\n",
      "{http://www.openarchives.org/OAI/2.0/}ListRecords -> \n",
      "    \n",
      "{http://www.openarchives.org/OAI/2.0/}record -> \n",
      "      \n",
      "{http://www.openarchives.org/OAI/2.0/}header -> \n",
      "        \n",
      "{http://www.openarchives.org/OAI/2.0/}identifier -> oai:zenodo.org:2542012\n",
      "{http://www.openarchives.org/OAI/2.0/}datestamp -> 2019-01-16T18:41:31Z\n",
      "{http://www.openarchives.org/OAI/2.0/}setSpec -> user-iipr_dlc_unican\n",
      "{http://www.openarchives.org/OAI/2.0/}metadata -> \n",
      "        \n",
      "{http://www.openarchives.org/OAI/2.0/oai_dc/}dc -> \n",
      "          \n",
      "{http://purl.org/dc/elements/1.1/}creator -> Ignacio Iker Prado Rujas\n",
      "{http://purl.org/dc/elements/1.1/}date -> 2019-01-16\n",
      "{http://purl.org/dc/elements/1.1/}description -> This is a first test release to check zenodo's integration with GitHub.\n",
      "{http://purl.org/dc/elements/1.1/}identifier -> https://zenodo.org/record/2542012\n",
      "{http://purl.org/dc/elements/1.1/}identifier -> 10.5281/zenodo.2542012\n",
      "{http://purl.org/dc/elements/1.1/}identifier -> oai:zenodo.org:2542012\n",
      "{http://purl.org/dc/elements/1.1/}relation -> url:https://github.com/iipr-Master-Data-Science/zenodo_integration/tree/v0.1\n",
      "{http://purl.org/dc/elements/1.1/}relation -> doi:10.5281/zenodo.2542011\n",
      "{http://purl.org/dc/elements/1.1/}relation -> url:https://zenodo.org/communities/iipr_dlc_unican\n",
      "{http://purl.org/dc/elements/1.1/}rights -> info:eu-repo/semantics/openAccess\n",
      "{http://purl.org/dc/elements/1.1/}title -> iipr-Master-Data-Science/zenodo_integration: Test release\n",
      "{http://purl.org/dc/elements/1.1/}type -> info:eu-repo/semantics/other\n",
      "{http://purl.org/dc/elements/1.1/}type -> software\n",
      "{http://www.openarchives.org/OAI/2.0/}record -> \n",
      "      \n",
      "{http://www.openarchives.org/OAI/2.0/}header -> \n",
      "        \n",
      "{http://www.openarchives.org/OAI/2.0/}identifier -> oai:zenodo.org:2541848\n",
      "{http://www.openarchives.org/OAI/2.0/}datestamp -> 2019-01-16T16:13:01Z\n",
      "{http://www.openarchives.org/OAI/2.0/}setSpec -> user-iipr_dlc_unican\n",
      "{http://www.openarchives.org/OAI/2.0/}metadata -> \n",
      "        \n",
      "{http://www.openarchives.org/OAI/2.0/oai_dc/}dc -> \n",
      "          \n",
      "{http://purl.org/dc/elements/1.1/}creator -> Prado Rujas, Ignacio Iker\n",
      "{http://purl.org/dc/elements/1.1/}date -> 2019-01-16\n",
      "{http://purl.org/dc/elements/1.1/}description -> Link to basic metadata.\n",
      "\n",
      "Link to extended description.\n",
      "{http://purl.org/dc/elements/1.1/}identifier -> https://zenodo.org/record/2541848\n",
      "{http://purl.org/dc/elements/1.1/}identifier -> 10.5281/zenodo.2541848\n",
      "{http://purl.org/dc/elements/1.1/}identifier -> oai:zenodo.org:2541848\n",
      "{http://purl.org/dc/elements/1.1/}language -> eng\n",
      "{http://purl.org/dc/elements/1.1/}relation -> doi:10.5281/zenodo.2541847\n",
      "{http://purl.org/dc/elements/1.1/}relation -> url:https://zenodo.org/communities/iipr_dlc_unican\n",
      "{http://purl.org/dc/elements/1.1/}rights -> info:eu-repo/semantics/openAccess\n",
      "{http://purl.org/dc/elements/1.1/}rights -> http://creativecommons.org/licenses/by-nc-sa/4.0/legalcode\n",
      "{http://purl.org/dc/elements/1.1/}title -> Employment rates by sex, age and educational attainment level (%)\n",
      "{http://purl.org/dc/elements/1.1/}type -> info:eu-repo/semantics/other\n",
      "{http://purl.org/dc/elements/1.1/}type -> dataset\n"
     ]
    }
   ],
   "source": [
    "oai = requests.get(zen_url + verb + comm)\n",
    "namespaces = {'oai': 'http://www.openarchives.org/OAI/2.0/'}\n",
    "\n",
    "# Para crear el arbol XML\n",
    "xmlTree = ET.fromstring(oai.text)\n",
    "\n",
    "iterator = xmlTree.iter()\n",
    "for e in iterator:\n",
    "    print(e.tag, '->', e.text)"
   ]
  },
  {
   "cell_type": "markdown",
   "metadata": {},
   "source": [
    "Get Record:"
   ]
  },
  {
   "cell_type": "code",
   "execution_count": 64,
   "metadata": {},
   "outputs": [],
   "source": [
    "verb = '?verb=GetRecord'\n",
    "comm = '&metadataPrefix=oai_dc&identifier=oai:zenodo.org:2542012'"
   ]
  },
  {
   "cell_type": "code",
   "execution_count": 65,
   "metadata": {},
   "outputs": [
    {
     "name": "stdout",
     "output_type": "stream",
     "text": [
      "{http://www.openarchives.org/OAI/2.0/}OAI-PMH: \n",
      "  \n",
      "{http://www.openarchives.org/OAI/2.0/}responseDate: 2019-01-16T18:43:47Z\n",
      "{http://www.openarchives.org/OAI/2.0/}request: https://zenodo.org/oai2d\n",
      "{http://www.openarchives.org/OAI/2.0/}GetRecord: \n",
      "    \n",
      "{http://www.openarchives.org/OAI/2.0/}record: \n",
      "      \n",
      "{http://www.openarchives.org/OAI/2.0/}header: \n",
      "        \n",
      "{http://www.openarchives.org/OAI/2.0/}identifier: oai:zenodo.org:2542012\n",
      "{http://www.openarchives.org/OAI/2.0/}datestamp: 2019-01-16T18:41:31Z\n",
      "{http://www.openarchives.org/OAI/2.0/}setSpec: user-iipr_dlc_unican\n",
      "{http://www.openarchives.org/OAI/2.0/}metadata: \n",
      "        \n",
      "{http://www.openarchives.org/OAI/2.0/oai_dc/}dc: \n",
      "          \n",
      "{http://purl.org/dc/elements/1.1/}creator: Ignacio Iker Prado Rujas\n",
      "{http://purl.org/dc/elements/1.1/}date: 2019-01-16\n",
      "{http://purl.org/dc/elements/1.1/}description: This is a first test release to check zenodo's integration with GitHub.\n",
      "{http://purl.org/dc/elements/1.1/}identifier: https://zenodo.org/record/2542012\n",
      "{http://purl.org/dc/elements/1.1/}identifier: 10.5281/zenodo.2542012\n",
      "{http://purl.org/dc/elements/1.1/}identifier: oai:zenodo.org:2542012\n",
      "{http://purl.org/dc/elements/1.1/}relation: url:https://github.com/iipr-Master-Data-Science/zenodo_integration/tree/v0.1\n",
      "{http://purl.org/dc/elements/1.1/}relation: doi:10.5281/zenodo.2542011\n",
      "{http://purl.org/dc/elements/1.1/}relation: url:https://zenodo.org/communities/iipr_dlc_unican\n",
      "{http://purl.org/dc/elements/1.1/}rights: info:eu-repo/semantics/openAccess\n",
      "{http://purl.org/dc/elements/1.1/}title: iipr-Master-Data-Science/zenodo_integration: Test release\n",
      "{http://purl.org/dc/elements/1.1/}type: info:eu-repo/semantics/other\n",
      "{http://purl.org/dc/elements/1.1/}type: software\n"
     ]
    }
   ],
   "source": [
    "oai = requests.get(zen_url + verb + comm)\n",
    "xmlTree = ET.fromstring(oai.text)\n",
    "iterator = xmlTree.iter()\n",
    "for elem in iterator:\n",
    "    print(elem.tag + ': ' + elem.text)"
   ]
  },
  {
   "cell_type": "code",
   "execution_count": 67,
   "metadata": {},
   "outputs": [
    {
     "name": "stdout",
     "output_type": "stream",
     "text": [
      "[{'bucket': '230b6e57-534d-40df-bc8b-05726866b6b3', 'checksum': 'md5:57206ae2a043c042e786b59ee8a36305', 'key': 'iipr-Master-Data-Science/zenodo_integration-v0.1.zip', 'links': {'self': 'https://zenodo.org/api/files/230b6e57-534d-40df-bc8b-05726866b6b3/iipr-Master-Data-Science/zenodo_integration-v0.1.zip'}, 'size': 15619, 'type': 'zip'}]\n"
     ]
    }
   ],
   "source": [
    "headers = {'accept': 'application/json'}\n",
    "r = requests.get('https://zenodo.org/api/records/2542012',headers)\n",
    "record = json.loads(r.text)\n",
    "print(record['files'])"
   ]
  },
  {
   "cell_type": "code",
   "execution_count": 68,
   "metadata": {},
   "outputs": [],
   "source": [
    "code_url = record['files'][0]['links']['self']\n",
    "with open('zenodo_integration-v0.1.zip', 'wb') as f:\n",
    "    f.write(requests.get(code_url).content)"
   ]
  },
  {
   "cell_type": "markdown",
   "metadata": {},
   "source": [
    "Decomprimimos:"
   ]
  },
  {
   "cell_type": "code",
   "execution_count": 69,
   "metadata": {},
   "outputs": [
    {
     "name": "stdout",
     "output_type": "stream",
     "text": [
      "Archive:  zenodo_integration-v0.1.zip\r\n",
      "d756f183b4fa8c545d77823ef31c148a8375d7cd\r\n",
      "   creating: iipr-Master-Data-Science-zenodo_integration-d756f18/\r\n",
      "  inflating: iipr-Master-Data-Science-zenodo_integration-d756f18/.gitignore  \r\n",
      "  inflating: iipr-Master-Data-Science-zenodo_integration-d756f18/LICENSE  \r\n",
      "  inflating: iipr-Master-Data-Science-zenodo_integration-d756f18/README.md  \r\n",
      "  inflating: iipr-Master-Data-Science-zenodo_integration-d756f18/make_plots.py  \r\n"
     ]
    }
   ],
   "source": [
    "!unzip zenodo_integration-v0.1.zip"
   ]
  },
  {
   "cell_type": "markdown",
   "metadata": {},
   "source": [
    "Movemos los datos a la carpeta del script para que pueda encontrarlos:"
   ]
  },
  {
   "cell_type": "code",
   "execution_count": 77,
   "metadata": {},
   "outputs": [],
   "source": [
    "#!mv lfsq_ergaed.tsv iipr-Master-Data-Science-zenodo_integration-d756f18"
   ]
  },
  {
   "cell_type": "markdown",
   "metadata": {},
   "source": [
    "# Análisis de los datos\n",
    "\n",
    "Producir fichero: Otro CSV, imagen, etc"
   ]
  },
  {
   "cell_type": "code",
   "execution_count": 76,
   "metadata": {},
   "outputs": [
    {
     "name": "stdout",
     "output_type": "stream",
     "text": [
      "3.7.1 (default, Oct 20 2018, 21:59:34) \n",
      "[GCC 5.4.0 20160609]\n",
      "Sexs: ['F' 'M' 'T']\n",
      "Geos: ['AT' 'BE' 'BG' 'CH' 'CY' 'CZ' 'DE' 'DK' 'EA17' 'EA18' 'EA19' 'EE' 'EL'\n",
      " 'ES' 'EU15' 'EU27' 'EU28' 'FI' 'FR' 'HR' 'HU' 'IE' 'IS' 'IT' 'LT' 'LU'\n",
      " 'LV' 'ME' 'MK' 'MT' 'NL' 'NO' 'PL' 'PT' 'RO' 'RS' 'SE' 'SI' 'SK' 'TR'\n",
      " 'UK']\n",
      "Age ranges: ['Y15-19' 'Y15-24' 'Y15-39' 'Y15-59' 'Y15-64' 'Y15-74' 'Y20-24' 'Y20-64'\n",
      " 'Y25-29' 'Y25-49' 'Y25-54' 'Y25-59' 'Y25-64' 'Y25-74' 'Y30-34' 'Y35-39'\n",
      " 'Y40-44' 'Y40-59' 'Y40-64' 'Y45-49' 'Y50-54' 'Y50-59' 'Y50-64' 'Y50-74'\n",
      " 'Y55-59' 'Y55-64' 'Y60-64' 'Y65-69' 'Y65-74' 'Y70-74']\n",
      "Educational levels: ['ED0-2' 'ED3_4' 'ED5-8' 'NRP' 'TOTAL']\n"
     ]
    },
    {
     "data": {
      "image/png": "[encoded data removed]",
      "text/plain": [
       "<Figure size 720x720 with 2 Axes>"
      ]
     },
     "metadata": {
      "needs_background": "light"
     },
     "output_type": "display_data"
    }
   ],
   "source": [
    "%run -i iipr-Master-Data-Science-zenodo_integration-d756f18/make_plots.py "
   ]
  },
  {
   "cell_type": "markdown",
   "metadata": {},
   "source": [
    "# Publicación de los Datos\n",
    "\n",
    "Utilizando la API de Zenodo"
   ]
  },
  {
   "cell_type": "code",
   "execution_count": null,
   "metadata": {},
   "outputs": [],
   "source": []
  },
  {
   "cell_type": "markdown",
   "metadata": {},
   "source": [
    "¿Puedes replicar ese workflow en un sólo bloque con otros datos?"
   ]
  },
  {
   "cell_type": "code",
   "execution_count": null,
   "metadata": {},
   "outputs": [],
   "source": []
  }
 ],
 "metadata": {
  "kernelspec": {
   "display_name": "Python 3",
   "language": "python",
   "name": "python3"
  },
  "language_info": {
   "codemirror_mode": {
    "name": "ipython",
    "version": 3
   },
   "file_extension": ".py",
   "mimetype": "text/x-python",
   "name": "python",
   "nbconvert_exporter": "python",
   "pygments_lexer": "ipython3",
   "version": "3.7.1"
  },
  "latex_envs": {
   "LaTeX_envs_menu_present": true,
   "autoclose": false,
   "autocomplete": true,
   "bibliofile": "biblio.bib",
   "cite_by": "apalike",
   "current_citInitial": 1,
   "eqLabelWithNumbers": true,
   "eqNumInitial": 1,
   "hotkeys": {
    "equation": "Ctrl-E",
    "itemize": "Ctrl-I"
   },
   "labels_anchors": false,
   "latex_user_defs": false,
   "report_style_numbering": false,
   "user_envs_cfg": false
  },
  "toc": {
   "base_numbering": 1,
   "nav_menu": {},
   "number_sections": true,
   "sideBar": true,
   "skip_h1_title": false,
   "title_cell": "Table of Contents",
   "title_sidebar": "Contents",
   "toc_cell": false,
   "toc_position": {},
   "toc_section_display": true,
   "toc_window_display": false
  }
 },
 "nbformat": 4,
 "nbformat_minor": 2
}
